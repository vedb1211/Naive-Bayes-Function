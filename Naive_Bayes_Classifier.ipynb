{
 "cells": [
  {
   "cell_type": "code",
   "execution_count": 1,
   "id": "c3040a38",
   "metadata": {},
   "outputs": [
    {
     "name": "stdout",
     "output_type": "stream",
     "text": [
      "Enter your file name: weather.csv\n",
      "Enter your target name: Weather\n"
     ]
    },
    {
     "name": "stderr",
     "output_type": "stream",
     "text": [
      "C:\\Users\\4qin\\AppData\\Local\\Temp/ipykernel_20288/2294589160.py:16: RuntimeWarning: divide by zero encountered in double_scalars\n",
      "  k=1/((pow(2*p,0.5))*s1)\n",
      "C:\\Users\\4qin\\AppData\\Local\\Temp/ipykernel_20288/2294589160.py:17: RuntimeWarning: divide by zero encountered in double_scalars\n",
      "  prob=k*pow(e,-0.5*pow((x-m1)/(s1),2))\n",
      "C:\\Users\\4qin\\AppData\\Local\\Temp/ipykernel_20288/2294589160.py:17: RuntimeWarning: invalid value encountered in double_scalars\n",
      "  prob=k*pow(e,-0.5*pow((x-m1)/(s1),2))\n"
     ]
    },
    {
     "name": "stdout",
     "output_type": "stream",
     "text": [
      "Naive Bayes score: 0.4103585657370518\n"
     ]
    }
   ],
   "source": [
    "import numpy as np\n",
    "import pandas as pd\n",
    "import math as m\n",
    "def devdas(x,y):\n",
    "    df = pd.read_csv(x)\n",
    "    a=df[y].to_list()\n",
    "    df = df.sort_index(axis=1)\n",
    "    cols=list(df.columns)\n",
    "    mean=df.pivot_table(index=y,values=cols,aggfunc=np.mean)\n",
    "    std=df.pivot_table(index=y,values=cols,aggfunc=np.std)\n",
    "    std=std.to_numpy()\n",
    "    mean=mean.to_numpy()\n",
    "    p=m.pi\n",
    "    e=m.e\n",
    "    def normdist(x,m1,s1):\n",
    "        k=1/((pow(2*p,0.5))*s1)\n",
    "        prob=k*pow(e,-0.5*pow((x-m1)/(s1),2))\n",
    "        return prob\n",
    "    f=dict()\n",
    "    for i in range(len(a)):\n",
    "        if a[i] in f: f[a[i]]+=1\n",
    "        else:f[a[i]]=1\n",
    "    keys=list(f.keys())\n",
    "    val=list(f.values())\n",
    "    val=np.array(val)\n",
    "    val=val/len(df)\n",
    "    f=dict(zip(keys,val))\n",
    "    p1=list(f.values())\n",
    "    f=dict(sorted(f.items()))\n",
    "    keys=list(f.keys())\n",
    "    df.drop(y,axis=1,inplace=True)\n",
    "    cols=list(df.columns)\n",
    "    for w in keys:\n",
    "        pro=[]\n",
    "        for i in range(len(df)):\n",
    "            l=df.iloc[i].to_list()\n",
    "            temp=1\n",
    "            for j in range(len(cols)):\n",
    "                temp*=normdist(l[j],mean[keys.index(w),j],std[keys.index(w),j])\n",
    "            pro.append(temp)\n",
    "        pro=np.array(pro)\n",
    "        pro=list(pro*f[w])\n",
    "        df[w]=pro\n",
    "    m1=[]\n",
    "    for i in range(len(df)):\n",
    "        l=df.iloc[i].to_list()[len(cols):len(df.columns)]\n",
    "        test=max(l)\n",
    "        index=l.index(test)\n",
    "        m1.append(keys[index])\n",
    "    count=0\n",
    "    for i in range(len(df)):\n",
    "        if m1[i]==a[i] : count+=1\n",
    "    return count/len(df)\n",
    "x = input(\"Enter your file name: \")\n",
    "y = input(\"Enter your target name: \")\n",
    "ans = devdas(x,y)\n",
    "print(\"Naive Bayes score:\",ans)"
   ]
  },
  {
   "cell_type": "code",
   "execution_count": null,
   "id": "0d1f86e6",
   "metadata": {},
   "outputs": [],
   "source": []
  }
 ],
 "metadata": {
  "kernelspec": {
   "display_name": "Python 3 (ipykernel)",
   "language": "python",
   "name": "python3"
  },
  "language_info": {
   "codemirror_mode": {
    "name": "ipython",
    "version": 3
   },
   "file_extension": ".py",
   "mimetype": "text/x-python",
   "name": "python",
   "nbconvert_exporter": "python",
   "pygments_lexer": "ipython3",
   "version": "3.9.7"
  }
 },
 "nbformat": 4,
 "nbformat_minor": 5
}
